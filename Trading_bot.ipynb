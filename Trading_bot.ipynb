{
  "nbformat": 4,
  "nbformat_minor": 0,
  "metadata": {
    "colab": {
      "provenance": []
    },
    "kernelspec": {
      "name": "python3",
      "display_name": "Python 3"
    },
    "language_info": {
      "name": "python"
    }
  },
  "cells": [
    {
      "cell_type": "code",
      "execution_count": 1,
      "metadata": {
        "id": "tznSqwM3BF1G",
        "colab": {
          "base_uri": "https://localhost:8080/"
        },
        "outputId": "f34d27af-03f1-49f0-8191-7e4704d326e6"
      },
      "outputs": [
        {
          "output_type": "stream",
          "name": "stdout",
          "text": [
            "Collecting python-binance\n",
            "  Downloading python_binance-1.0.29-py2.py3-none-any.whl.metadata (13 kB)\n",
            "Requirement already satisfied: requests in /usr/local/lib/python3.11/dist-packages (from python-binance) (2.32.3)\n",
            "Requirement already satisfied: six in /usr/local/lib/python3.11/dist-packages (from python-binance) (1.17.0)\n",
            "Collecting dateparser (from python-binance)\n",
            "  Downloading dateparser-1.2.2-py3-none-any.whl.metadata (29 kB)\n",
            "Requirement already satisfied: aiohttp in /usr/local/lib/python3.11/dist-packages (from python-binance) (3.11.15)\n",
            "Requirement already satisfied: websockets in /usr/local/lib/python3.11/dist-packages (from python-binance) (15.0.1)\n",
            "Collecting pycryptodome (from python-binance)\n",
            "  Downloading pycryptodome-3.23.0-cp37-abi3-manylinux_2_17_x86_64.manylinux2014_x86_64.whl.metadata (3.4 kB)\n",
            "Requirement already satisfied: aiohappyeyeballs>=2.3.0 in /usr/local/lib/python3.11/dist-packages (from aiohttp->python-binance) (2.6.1)\n",
            "Requirement already satisfied: aiosignal>=1.1.2 in /usr/local/lib/python3.11/dist-packages (from aiohttp->python-binance) (1.3.2)\n",
            "Requirement already satisfied: attrs>=17.3.0 in /usr/local/lib/python3.11/dist-packages (from aiohttp->python-binance) (25.3.0)\n",
            "Requirement already satisfied: frozenlist>=1.1.1 in /usr/local/lib/python3.11/dist-packages (from aiohttp->python-binance) (1.7.0)\n",
            "Requirement already satisfied: multidict<7.0,>=4.5 in /usr/local/lib/python3.11/dist-packages (from aiohttp->python-binance) (6.6.3)\n",
            "Requirement already satisfied: propcache>=0.2.0 in /usr/local/lib/python3.11/dist-packages (from aiohttp->python-binance) (0.3.2)\n",
            "Requirement already satisfied: yarl<2.0,>=1.17.0 in /usr/local/lib/python3.11/dist-packages (from aiohttp->python-binance) (1.20.1)\n",
            "Requirement already satisfied: python-dateutil>=2.7.0 in /usr/local/lib/python3.11/dist-packages (from dateparser->python-binance) (2.9.0.post0)\n",
            "Requirement already satisfied: pytz>=2024.2 in /usr/local/lib/python3.11/dist-packages (from dateparser->python-binance) (2025.2)\n",
            "Requirement already satisfied: regex>=2024.9.11 in /usr/local/lib/python3.11/dist-packages (from dateparser->python-binance) (2024.11.6)\n",
            "Requirement already satisfied: tzlocal>=0.2 in /usr/local/lib/python3.11/dist-packages (from dateparser->python-binance) (5.3.1)\n",
            "Requirement already satisfied: charset-normalizer<4,>=2 in /usr/local/lib/python3.11/dist-packages (from requests->python-binance) (3.4.2)\n",
            "Requirement already satisfied: idna<4,>=2.5 in /usr/local/lib/python3.11/dist-packages (from requests->python-binance) (3.10)\n",
            "Requirement already satisfied: urllib3<3,>=1.21.1 in /usr/local/lib/python3.11/dist-packages (from requests->python-binance) (2.4.0)\n",
            "Requirement already satisfied: certifi>=2017.4.17 in /usr/local/lib/python3.11/dist-packages (from requests->python-binance) (2025.6.15)\n",
            "Downloading python_binance-1.0.29-py2.py3-none-any.whl (130 kB)\n",
            "\u001b[2K   \u001b[90m━━━━━━━━━━━━━━━━━━━━━━━━━━━━━━━━━━━━━━━━\u001b[0m \u001b[32m130.8/130.8 kB\u001b[0m \u001b[31m4.4 MB/s\u001b[0m eta \u001b[36m0:00:00\u001b[0m\n",
            "\u001b[?25hDownloading dateparser-1.2.2-py3-none-any.whl (315 kB)\n",
            "\u001b[2K   \u001b[90m━━━━━━━━━━━━━━━━━━━━━━━━━━━━━━━━━━━━━━━━\u001b[0m \u001b[32m315.5/315.5 kB\u001b[0m \u001b[31m10.4 MB/s\u001b[0m eta \u001b[36m0:00:00\u001b[0m\n",
            "\u001b[?25hDownloading pycryptodome-3.23.0-cp37-abi3-manylinux_2_17_x86_64.manylinux2014_x86_64.whl (2.3 MB)\n",
            "\u001b[2K   \u001b[90m━━━━━━━━━━━━━━━━━━━━━━━━━━━━━━━━━━━━━━━━\u001b[0m \u001b[32m2.3/2.3 MB\u001b[0m \u001b[31m31.0 MB/s\u001b[0m eta \u001b[36m0:00:00\u001b[0m\n",
            "\u001b[?25hInstalling collected packages: pycryptodome, dateparser, python-binance\n",
            "Successfully installed dateparser-1.2.2 pycryptodome-3.23.0 python-binance-1.0.29\n"
          ]
        }
      ],
      "source": [
        "!pip install python-binance"
      ]
    },
    {
      "cell_type": "code",
      "source": [
        "from binance.client import Client\n",
        "import logging\n",
        "\n",
        "# Set up logging configuration\n",
        "logging.basicConfig(\n",
        "    filename='bot_log.log',\n",
        "    level=logging.INFO,\n",
        "    format='%(asctime)s - %(levelname)s - %(message)s'\n",
        ")"
      ],
      "metadata": {
        "id": "12EEGlA8uq0n"
      },
      "execution_count": 11,
      "outputs": []
    },
    {
      "cell_type": "code",
      "source": [
        "class BasicBot:\n",
        "  def __init__(self, api_key, api_secret, testnet=True):\n",
        "        self.api_key = api_key\n",
        "        self.api_secret = api_secret\n",
        "        self.base_url = \"https://testnet.binancefuture.com\" if testnet else \"https://fapi.binance.com\"\n",
        "        self.client = Client(api_key, api_secret)\n",
        "        self.client.FUTURES_URL = self.base_url"
      ],
      "metadata": {
        "id": "3NDzEVIIuyP9"
      },
      "execution_count": 5,
      "outputs": []
    },
    {
      "cell_type": "code",
      "source": [
        " def place_market_order(self, symbol, side, quantity):\n",
        "        try:\n",
        "            order = self.client.futures_create_order(\n",
        "                symbol=symbol,\n",
        "                side=side,\n",
        "                type=\"MARKET\",\n",
        "                quantity=quantity\n",
        "            )\n",
        "            logging.info(f\"Order placed: {order}\")\n",
        "        except Exception as e:\n",
        "            logging.error(f\"Error placing order: {str(e)}\")"
      ],
      "metadata": {
        "id": "wtr6zOR5vIyX"
      },
      "execution_count": 21,
      "outputs": []
    },
    {
      "cell_type": "code",
      "source": [
        "api_key = \"735e8c933d79f1753aabdcca923251650c89c779fbc402181a9a2af46d67428b\"\n",
        "api_secret = \"5fb65dc9564719d5eaf62cdbedfb154b5f47d935b5e7150bceb7a1d69728c0ff\""
      ],
      "metadata": {
        "id": "AAel-WeZvWgx"
      },
      "execution_count": 22,
      "outputs": []
    },
    {
      "cell_type": "markdown",
      "source": [],
      "metadata": {
        "id": "2hZtbTf83jK4"
      }
    },
    {
      "cell_type": "code",
      "source": [
        "try:\n",
        "    bot = BasicBot(api_key, api_secret)\n",
        "except Exception as e:\n",
        "    print(\"❌ Could not connect to Binance API:\", e)\n",
        "    logging.error(f\"Bot initialization failed: {e}\")\n",
        "    bot = None\n"
      ],
      "metadata": {
        "colab": {
          "base_uri": "https://localhost:8080/"
        },
        "id": "kYPimm8UwtLc",
        "outputId": "25d24d43-d0c5-45a4-cc89-57c6fcc0c0e0"
      },
      "execution_count": 31,
      "outputs": [
        {
          "output_type": "stream",
          "name": "stderr",
          "text": [
            "ERROR:root:Bot initialization failed: APIError(code=0): Service unavailable from a restricted location according to 'b. Eligibility' in https://www.binance.com/en/terms. Please contact customer service if you believe you received this message in error.\n"
          ]
        },
        {
          "output_type": "stream",
          "name": "stdout",
          "text": [
            "❌ Could not connect to Binance API: APIError(code=0): Service unavailable from a restricted location according to 'b. Eligibility' in https://www.binance.com/en/terms. Please contact customer service if you believe you received this message in error.\n"
          ]
        }
      ]
    },
    {
      "cell_type": "code",
      "source": [
        "if bot is not None:\n",
        "    symbol = input(\"Enter the trading symbol (e.g., BTCUSDT): \").upper()\n",
        "    side = input(\"Enter order side (BUY or SELL): \").upper()\n",
        "    order_type = input(\"Enter order type (MARKET or LIMIT): \").upper()\n",
        "    quantity = float(input(\"Enter quantity (e.g., 0.01): \"))\n",
        "\n",
        "    if order_type == \"LIMIT\":\n",
        "        price = float(input(\"Enter the price for the LIMIT order: \"))\n",
        "        time_in_force = \"GTC\"\n",
        "\n",
        "        try:\n",
        "            order = bot.client.futures_create_order(\n",
        "                symbol=symbol,\n",
        "                side=side,\n",
        "                type=order_type,\n",
        "                timeInForce=time_in_force,\n",
        "                quantity=quantity,\n",
        "                price=price\n",
        "            )\n",
        "            print(\"✅ LIMIT order placed:\", order)\n",
        "            logging.info(f\"LIMIT Order placed: {order}\")\n",
        "        except Exception as e:\n",
        "            print(\"❌ Error placing LIMIT order:\", e)\n",
        "            logging.error(f\"Error placing LIMIT order: {e}\")\n",
        "\n",
        "    elif order_type == \"MARKET\":\n",
        "        try:\n",
        "            bot.place_market_order(symbol=symbol, side=side, quantity=quantity)\n",
        "        except Exception as e:\n",
        "            print(\"❌ Error placing MARKET order:\", e)\n",
        "            logging.error(f\"Error placing MARKET order: {e}\")\n",
        "    else:\n",
        "        print(\"❌ Invalid order type. Please enter MARKET or LIMIT.\")\n",
        "\n",
        "else:\n",
        "    print(\"❌ Bot not initialized. Cannot proceed with trading.\")"
      ],
      "metadata": {
        "colab": {
          "base_uri": "https://localhost:8080/"
        },
        "id": "v_wLKFxqzheV",
        "outputId": "328b900b-b696-4b03-e7ee-153560094f5a"
      },
      "execution_count": 32,
      "outputs": [
        {
          "output_type": "stream",
          "name": "stdout",
          "text": [
            "❌ Bot not initialized. Cannot proceed with trading.\n"
          ]
        }
      ]
    },
    {
      "cell_type": "code",
      "source": [],
      "metadata": {
        "id": "_IsouFhk8lOB"
      },
      "execution_count": null,
      "outputs": []
    }
  ]
}